{
  "nbformat": 4,
  "nbformat_minor": 0,
  "metadata": {
    "colab": {
      "provenance": [],
      "gpuType": "T4",
      "authorship_tag": "ABX9TyM+u7Dh50Wj+06CDKFk/VQB",
      "include_colab_link": true
    },
    "kernelspec": {
      "name": "python3",
      "display_name": "Python 3"
    },
    "language_info": {
      "name": "python"
    },
    "accelerator": "GPU"
  },
  "cells": [
    {
      "cell_type": "markdown",
      "metadata": {
        "id": "view-in-github",
        "colab_type": "text"
      },
      "source": [
        "<a href=\"https://colab.research.google.com/github/bainro/autoCARL/blob/main/pyCARL/hello_world.ipynb\" target=\"_parent\"><img src=\"https://colab.research.google.com/assets/colab-badge.svg\" alt=\"Open In Colab\"/></a>"
      ]
    },
    {
      "cell_type": "code",
      "source": [
        "# install python version of carlsim :)\n",
        "!pip install -i https://test.pypi.org/simple/ carlsim==1.1"
      ],
      "metadata": {
        "colab": {
          "base_uri": "https://localhost:8080/"
        },
        "id": "JwVbpBEfUycX",
        "outputId": "1f370e29-ecb9-450a-99d6-ebd30b327da3"
      },
      "execution_count": 1,
      "outputs": [
        {
          "output_type": "stream",
          "name": "stdout",
          "text": [
            "Looking in indexes: https://test.pypi.org/simple/\n",
            "Requirement already satisfied: carlsim==1.1 in /usr/local/lib/python3.10/dist-packages (1.1)\n"
          ]
        }
      ]
    },
    {
      "cell_type": "code",
      "source": [
        "# makes output visible\n",
        "!pip install wurlitzer\n",
        "\n",
        "# this is meant to replace the \"with\" block\n",
        "# in the cell below, but is causing crashes\n",
        "# %load_ext wurlitzer"
      ],
      "metadata": {
        "colab": {
          "base_uri": "https://localhost:8080/"
        },
        "id": "9MR5l6sLZrQN",
        "outputId": "7edeee79-14db-4faf-dced-1b0f91b32a77"
      },
      "execution_count": 2,
      "outputs": [
        {
          "output_type": "stream",
          "name": "stdout",
          "text": [
            "Requirement already satisfied: wurlitzer in /usr/local/lib/python3.10/dist-packages (3.0.3)\n"
          ]
        }
      ]
    },
    {
      "cell_type": "code",
      "source": [
        "import carlsim\n",
        "import wurlitzer as w\n",
        "\n",
        "with w.sys_pipes():\n",
        "  sim = carlsim.CARLsim(\"hello_world\", carlsim.GPU_MODE)\n",
        "  gridIn = carlsim.Grid3D(13,9,1)\n",
        "  gridOut = carlsim.Grid3D(3,3,1)\n",
        "  gin = sim.createSpikeGeneratorGroup(\"input\", gridIn, carlsim.EXCITATORY_NEURON);\n",
        "  gout = sim.createGroup(\"output\", gridOut, carlsim.EXCITATORY_NEURON);\n",
        "  sim.setNeuronParameters(gout, 0.02, 0.2, -65.0, 8.0);\n",
        "  sim.connect(gin, gout, \"gaussian\", carlsim.RangeWeight(0.05), 1.0, carlsim.RangeDelay(1), carlsim.RadiusRF(3,3,1));\n",
        "  sim.setConductances(True)\n",
        "  sim.setupNetwork()\n",
        "  _in = carlsim.PoissonRate(gridIn.N);\n",
        "  _in.setRates(30.)\n",
        "  sim.setSpikeRate(gin, _in);\n",
        "  sim.runNetwork(1,0)"
      ],
      "metadata": {
        "colab": {
          "base_uri": "https://localhost:8080/"
        },
        "id": "MK-iDdSEDBLV",
        "outputId": "4cc86130-1b3e-42d0-d07e-46d830abef55"
      },
      "execution_count": 5,
      "outputs": [
        {
          "output_type": "stream",
          "name": "stdout",
          "text": [
            "*********************************************************************************\n",
            "********************      Welcome to CARLsim 6.0      ***************************\n",
            "*********************************************************************************\n",
            "\n",
            "***************************** Configuring Network ********************************\n",
            "Starting CARLsim simulation \"hello_world\" in USER mode\n",
            "Random number seed: 1695010203\n",
            "Running COBA mode:\n",
            "  - AMPA decay time            =     5 ms\n",
            "  - NMDA rise time (disabled)  =     0 ms\n",
            "  - GABAa decay time           =     6 ms\n",
            "  - GABAb rise time (disabled) =     0 ms\n",
            "  - GABAb decay time           =   150 ms\n",
            "\n",
            "\n",
            "************************** Global Network Configuration *******************************\n",
            "The number of neurons in the network (numN) = 126\n",
            "The number of regular neurons in the network (numNReg:numNExcReg:numNInhReg) = 9:9:0\n",
            "The number of poisson neurons in the network (numNPois:numNExcPois:numInhPois) = 117:117:0\n",
            "The maximum axonal delay in the network (maxDelay) = 1\n",
            "CUDA devices Configuration:\n",
            "  - Number of CUDA devices          =         1\n",
            "  - CUDA device ID with max GFLOPs  =         0\n",
            "  + Use CUDA device[0]              =  Tesla T4\n",
            "  + CUDA Compute Capability (CC)    =       7.5\n",
            "\n",
            "+ Local Network (0)\n",
            "|-+ Group List:\n",
            "  |-+ Local Group input(G:0,L:1): \n",
            "    |- Type                       =    EXCIT_POISSON\n",
            "    |- Num of Neurons             =      117\n",
            "    |- Start Id                   = (G:9,L:9)\n",
            "    |- End Id                     = (G:125,L:125)\n",
            "    |- numPostSynapses            =     1021\n",
            "    |- numPreSynapses             =        0\n",
            "    |- Refractory period          =  0.00000\n",
            "  |-+ Local Group output(G:1,L:0): \n",
            "    |- Type                       =    EXCIT\n",
            "    |- Num of Neurons             =        9\n",
            "    |- Start Id                   = (G:0,L:0)\n",
            "    |- End Id                     = (G:8,L:8)\n",
            "    |- numPostSynapses            =        0\n",
            "    |- numPreSynapses             =     1021\n",
            "|-+ Connection List:\n",
            "  |-+ Local Connection Id 0: input(0) => output(1)\n",
            "    |- Type                       =    FIXED\n",
            "    |- Min weight                 =  0.00000\n",
            "    |- Max weight                 =  0.05000\n",
            "    |- Initial weight             =  0.05000\n",
            "    |- Min delay                  =        1\n",
            "    |- Max delay                  =        1\n",
            "    |- Radius X                   =     3.00\n",
            "    |- Radius Y                   =     3.00\n",
            "    |- Radius Z                   =     1.00\n",
            "    |- Num of synapses            = 1021\n",
            "    |- Avg numPreSynapses         =   113.44\n",
            "    |- Avg numPostSynapses        =     8.73\n",
            "\n",
            "*****************      Initializing GPU 0 Runtime      *************************\n",
            "GPU Memory Management: (Total 15101.812 MB)\n",
            "Data\t\t\tSize\t\tTotal Used\tTotal Available\n",
            "Init:\t\t\t15101.812 MB\t107.000 MB\t14994.812 MB\n",
            "Random Gen:\t\t2.000 MB\t109.000 MB\t14992.812 MB\n",
            "Static Load:\t\t0.000 MB\t109.000 MB\t14992.812 MB\n",
            "Conn Info:\t\t0.000 MB\t109.000 MB\t14992.812 MB\n",
            "Syn State:\t\t0.000 MB\t109.000 MB\t14992.812 MB\n",
            "Neuron State:\t\t0.000 MB\t109.000 MB\t14992.812 MB\n",
            "Group State:\t\t0.000 MB\t109.000 MB\t14992.812 MB\n",
            "Auxiliary Data:\t\t0.000 MB\t109.000 MB\t14992.812 MB\n",
            "\n",
            "\n",
            "\n",
            "******************** Running the simulation on 1 GPU(s) and 0 CPU(s) ***************************\n",
            "\n",
            "\n",
            "\n",
            "********************    Simulation Summary      ***************************\n",
            "Network Parameters: \tnumNeurons = 126 (numNExcReg:numNInhReg = 7.1:0.0)\n",
            "\t\t\tnumSynapses = 1021\n",
            "\t\t\tmaxDelay = 1\n",
            "Simulation Mode:\tCOBA\n",
            "Random Seed:\t\t1695010176\n",
            "Timing:\t\t\tModel Simulation Time = 1 sec\n",
            "\t\t\tActual Execution Time = 0.13 sec\n",
            "\t\t\tSpeed Factor (Model/Real) = 7.6 x \n",
            "Average Firing Rate:\t2+ms delay = 0.000 Hz\n",
            "\t\t\t1ms delay = 38.579 Hz\n",
            "\t\t\tOverall = 38.579 Hz\n",
            "Overall Spike Count Transferred:\n",
            "\t\t\t2+ms delay = 0\n",
            "\t\t\t1ms delay = 0\n",
            "Overall Spike Count:\t2+ms delay = 0\n",
            "\t\t\t1ms delay = 4861\n",
            "\t\t\tTotal = 4861\n",
            "*********************************************************************************\n",
            "\n"
          ]
        }
      ]
    },
    {
      "cell_type": "code",
      "source": [
        "from IPython.display import IFrame\n",
        "IFrame('https://rkbain.com', width=1100, height=550)"
      ],
      "metadata": {
        "colab": {
          "base_uri": "https://localhost:8080/",
          "height": 571
        },
        "id": "6GX4X3WcH-V2",
        "outputId": "02e08bc5-5161-4633-d30d-02de25ac2fec"
      },
      "execution_count": 6,
      "outputs": [
        {
          "output_type": "execute_result",
          "data": {
            "text/plain": [
              "<IPython.lib.display.IFrame at 0x780a8b56f070>"
            ],
            "text/html": [
              "\n",
              "        <iframe\n",
              "            width=\"1100\"\n",
              "            height=\"550\"\n",
              "            src=\"https://rkbain.com\"\n",
              "            frameborder=\"0\"\n",
              "            allowfullscreen\n",
              "            \n",
              "        ></iframe>\n",
              "        "
            ]
          },
          "metadata": {},
          "execution_count": 6
        }
      ]
    },
    {
      "cell_type": "code",
      "source": [],
      "metadata": {
        "id": "OzRsHKWyIaKt"
      },
      "execution_count": 4,
      "outputs": []
    }
  ]
}