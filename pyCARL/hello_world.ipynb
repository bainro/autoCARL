{
  "nbformat": 4,
  "nbformat_minor": 0,
  "metadata": {
    "colab": {
      "provenance": [],
      "gpuType": "T4",
      "authorship_tag": "ABX9TyNJ+bSZnfyRlH1nqSAJr1+y",
      "include_colab_link": true
    },
    "kernelspec": {
      "name": "python3",
      "display_name": "Python 3"
    },
    "language_info": {
      "name": "python"
    },
    "accelerator": "GPU"
  },
  "cells": [
    {
      "cell_type": "markdown",
      "metadata": {
        "id": "view-in-github",
        "colab_type": "text"
      },
      "source": [
        "<a href=\"https://colab.research.google.com/github/bainro/autoCARL/blob/main/hello_world.ipynb\" target=\"_parent\"><img src=\"https://colab.research.google.com/assets/colab-badge.svg\" alt=\"Open In Colab\"/></a>"
      ]
    },
    {
      "cell_type": "code",
      "source": [
        "# install python version of carlsim :)\n",
        "!pip install -i https://test.pypi.org/simple/ carlsim==1.1\n",
        "!git clone https://github.com/bainro/autoCARL\n",
        "!python3 autoCARL/pyCARL/test/hello_world/hello_world.py"
      ],
      "metadata": {
        "colab": {
          "base_uri": "https://localhost:8080/"
        },
        "id": "JwVbpBEfUycX",
        "outputId": "1b578796-9090-4f74-e7fe-432b67952d5e"
      },
      "execution_count": 2,
      "outputs": [
        {
          "output_type": "stream",
          "name": "stdout",
          "text": [
            "fatal: destination path 'autoCARL' already exists and is not an empty directory.\n",
            "*********************************************************************************\n",
            "********************      Welcome to CARLsim 6.0      ***************************\n",
            "*********************************************************************************\n",
            "\n",
            "***************************** Configuring Network ********************************\n",
            "Starting CARLsim simulation \"hello_world\" in USER mode\n",
            "Random number seed: 1695007929\n",
            "Running COBA mode:\n",
            "  - AMPA decay time            =     5 ms\n",
            "  - NMDA rise time (disabled)  =     0 ms\n",
            "  - GABAa decay time           =     6 ms\n",
            "  - GABAb rise time (disabled) =     0 ms\n",
            "  - GABAb decay time           =   150 ms\n",
            "\n",
            "\n",
            "************************** Global Network Configuration *******************************\n",
            "The number of neurons in the network (numN) = 126\n",
            "The number of regular neurons in the network (numNReg:numNExcReg:numNInhReg) = 9:9:0\n",
            "The number of poisson neurons in the network (numNPois:numNExcPois:numInhPois) = 117:117:0\n",
            "The maximum axonal delay in the network (maxDelay) = 1\n",
            "CUDA devices Configuration:\n",
            "  - Number of CUDA devices          =         1\n",
            "  - CUDA device ID with max GFLOPs  =         0\n",
            "  + Use CUDA device[0]              =  Tesla T4\n",
            "  + CUDA Compute Capability (CC)    =       7.5\n",
            "\n",
            "+ Local Network (0)\n",
            "|-+ Group List:\n",
            "  |-+ Local Group input(G:0,L:1): \n",
            "    |- Type                       =    EXCIT_POISSON\n",
            "    |- Num of Neurons             =      117\n",
            "    |- Start Id                   = (G:9,L:9)\n",
            "    |- End Id                     = (G:125,L:125)\n",
            "    |- numPostSynapses            =     1021\n",
            "    |- numPreSynapses             =        0\n",
            "    |- Refractory period          =  0.00000\n",
            "  |-+ Local Group output(G:1,L:0): \n",
            "    |- Type                       =    EXCIT\n",
            "    |- Num of Neurons             =        9\n",
            "    |- Start Id                   = (G:0,L:0)\n",
            "    |- End Id                     = (G:8,L:8)\n",
            "    |- numPostSynapses            =        0\n",
            "    |- numPreSynapses             =     1021\n",
            "|-+ Connection List:\n",
            "  |-+ Local Connection Id 0: input(0) => output(1)\n",
            "    |- Type                       =    FIXED\n",
            "    |- Min weight                 =  0.00000\n",
            "    |- Max weight                 =  0.05000\n",
            "    |- Initial weight             =  0.05000\n",
            "    |- Min delay                  =        1\n",
            "    |- Max delay                  =        1\n",
            "    |- Radius X                   =     3.00\n",
            "    |- Radius Y                   =     3.00\n",
            "    |- Radius Z                   =     1.00\n",
            "    |- Num of synapses            = 1021\n",
            "    |- Avg numPreSynapses         =   113.44\n",
            "    |- Avg numPostSynapses        =     8.73\n",
            "\n",
            "*****************      Initializing GPU 0 Runtime      *************************\n",
            "GPU Memory Management: (Total 15101.812 MB)\n",
            "Data\t\t\tSize\t\tTotal Used\tTotal Available\n",
            "Init:\t\t\t15101.812 MB\t107.000 MB\t14994.812 MB\n",
            "Random Gen:\t\t2.000 MB\t109.000 MB\t14992.812 MB\n",
            "Static Load:\t\t0.000 MB\t109.000 MB\t14992.812 MB\n",
            "Conn Info:\t\t0.000 MB\t109.000 MB\t14992.812 MB\n",
            "Syn State:\t\t0.000 MB\t109.000 MB\t14992.812 MB\n",
            "Neuron State:\t\t0.000 MB\t109.000 MB\t14992.812 MB\n",
            "Group State:\t\t0.000 MB\t109.000 MB\t14992.812 MB\n",
            "Auxiliary Data:\t\t0.000 MB\t109.000 MB\t14992.812 MB\n",
            "\n",
            "\n",
            "\n",
            "******************** Running the simulation on 1 GPU(s) and 0 CPU(s) ***************************\n",
            "\n",
            "\n",
            "\n",
            "********************    Simulation Summary      ***************************\n",
            "Network Parameters: \tnumNeurons = 126 (numNExcReg:numNInhReg = 7.1:0.0)\n",
            "\t\t\tnumSynapses = 1021\n",
            "\t\t\tmaxDelay = 1\n",
            "Simulation Mode:\tCOBA\n",
            "Random Seed:\t\t1695007929\n",
            "Timing:\t\t\tModel Simulation Time = 1 sec\n",
            "\t\t\tActual Execution Time = 0.40 sec\n",
            "\t\t\tSpeed Factor (Model/Real) = 2.5 x \n",
            "Average Firing Rate:\t2+ms delay = 0.000 Hz\n",
            "\t\t\t1ms delay = 39.000 Hz\n",
            "\t\t\tOverall = 39.000 Hz\n",
            "Overall Spike Count Transferred:\n",
            "\t\t\t2+ms delay = 0\n",
            "\t\t\t1ms delay = 0\n",
            "Overall Spike Count:\t2+ms delay = 0\n",
            "\t\t\t1ms delay = 4914\n",
            "\t\t\tTotal = 4914\n",
            "*********************************************************************************\n",
            "\n"
          ]
        }
      ]
    },
    {
      "cell_type": "code",
      "source": [
        "# pycarl version of carlsim's C++ hello_world\n",
        "import carlsim\n",
        "\n",
        "sim = carlsim.CARLsim(\"hello_world\", carlsim.GPU_MODE)\n",
        "gridIn = carlsim.Grid3D(13,9,1)\n",
        "gridOut = carlsim.Grid3D(3,3,1)\n",
        "gin = sim.createSpikeGeneratorGroup(\"input\", gridIn, carlsim.EXCITATORY_NEURON);\n",
        "gout = sim.createGroup(\"output\", gridOut, carlsim.EXCITATORY_NEURON);\n",
        "sim.setNeuronParameters(gout, 0.02, 0.2, -65.0, 8.0);\n",
        "sim.connect(gin, gout, \"gaussian\", carlsim.RangeWeight(0.05), 1.0, carlsim.RangeDelay(1), carlsim.RadiusRF(3,3,1));\n",
        "sim.setConductances(True)\n",
        "sim.setupNetwork()\n",
        "_in = carlsim.PoissonRate(gridIn.N);\n",
        "_in.setRates(30.)\n",
        "sim.setSpikeRate(gin, _in);\n",
        "sim.runNetwork(1,0)"
      ],
      "metadata": {
        "colab": {
          "base_uri": "https://localhost:8080/"
        },
        "id": "MK-iDdSEDBLV",
        "outputId": "3f3b090f-986a-4fc9-d10c-7558567dff28"
      },
      "execution_count": 3,
      "outputs": [
        {
          "output_type": "execute_result",
          "data": {
            "text/plain": [
              "0"
            ]
          },
          "metadata": {},
          "execution_count": 3
        }
      ]
    },
    {
      "cell_type": "code",
      "source": [
        "import time\n",
        "from IPython.display import IFrame\n",
        "# check the server after a few minutes\n",
        "# time.sleep(120) # turned off for dbg\n",
        "#IFrame('https://rkbain.com', width=700, height=350)\n",
        "IFrame('https://test.pypi.org/project/carlsim/', width=700, height=350)"
      ],
      "metadata": {
        "colab": {
          "base_uri": "https://localhost:8080/",
          "height": 371
        },
        "id": "6GX4X3WcH-V2",
        "outputId": "eb8efc65-0e41-4c38-aaeb-180c1c7c60f2"
      },
      "execution_count": null,
      "outputs": [
        {
          "output_type": "execute_result",
          "data": {
            "text/plain": [
              "<IPython.lib.display.IFrame at 0x7999696f3d00>"
            ],
            "text/html": [
              "\n",
              "        <iframe\n",
              "            width=\"700\"\n",
              "            height=\"350\"\n",
              "            src=\"https://test.pypi.org/project/carlsim/\"\n",
              "            frameborder=\"0\"\n",
              "            allowfullscreen\n",
              "            \n",
              "        ></iframe>\n",
              "        "
            ]
          },
          "metadata": {},
          "execution_count": 4
        }
      ]
    },
    {
      "cell_type": "code",
      "source": [],
      "metadata": {
        "id": "OzRsHKWyIaKt"
      },
      "execution_count": null,
      "outputs": []
    }
  ]
}
