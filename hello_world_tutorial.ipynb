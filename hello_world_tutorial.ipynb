{
  "nbformat": 4,
  "nbformat_minor": 0,
  "metadata": {
    "colab": {
      "provenance": [],
      "authorship_tag": "ABX9TyMmEscDv06aUFS6cfofMeF0",
      "include_colab_link": true
    },
    "kernelspec": {
      "name": "python3",
      "display_name": "Python 3"
    },
    "language_info": {
      "name": "python"
    }
  },
  "cells": [
    {
      "cell_type": "markdown",
      "metadata": {
        "id": "view-in-github",
        "colab_type": "text"
      },
      "source": [
        "<a href=\"https://colab.research.google.com/github/bainro/autoCARL/blob/final-test-6.1-release/hello_world_tutorial.ipynb\" target=\"_parent\"><img src=\"https://colab.research.google.com/assets/colab-badge.svg\" alt=\"Open In Colab\"/></a>"
      ]
    },
    {
      "cell_type": "code",
      "execution_count": 19,
      "metadata": {
        "id": "xMVMfnNGC_El"
      },
      "outputs": [],
      "source": [
        "# what we're aiming for!\n",
        "!pip install carlsim"
      ]
    },
    {
      "cell_type": "code",
      "source": [
        "# github action building PyCARL with CPU\n",
        "# build the wheel\n",
        "!python -m build\n",
        "!pip install twine\n",
        "!twine upload -r testpypi dist/*\n",
        "!twine upload dist/*"
      ],
      "metadata": {
        "colab": {
          "base_uri": "https://localhost:8080/"
        },
        "id": "_TC_m7HcHL-d",
        "outputId": "378da326-302e-4e9d-ae7f-ca9da79cb674"
      },
      "execution_count": 16,
      "outputs": [
        {
          "output_type": "stream",
          "name": "stdout",
          "text": [
            "\u001b[91mERROR\u001b[0m Source /content does not appear to be a Python project: no pyproject.toml or setup.py\n",
            "Collecting twine\n",
            "  Downloading twine-4.0.2-py3-none-any.whl (36 kB)\n",
            "Collecting pkginfo>=1.8.1 (from twine)\n",
            "  Downloading pkginfo-1.9.6-py3-none-any.whl (30 kB)\n",
            "Collecting readme-renderer>=35.0 (from twine)\n",
            "  Downloading readme_renderer-41.0-py3-none-any.whl (14 kB)\n",
            "Requirement already satisfied: requests>=2.20 in /usr/local/lib/python3.10/dist-packages (from twine) (2.31.0)\n",
            "Collecting requests-toolbelt!=0.9.0,>=0.8.0 (from twine)\n",
            "  Downloading requests_toolbelt-1.0.0-py2.py3-none-any.whl (54 kB)\n",
            "\u001b[2K     \u001b[90m━━━━━━━━━━━━━━━━━━━━━━━━━━━━━━━━━━━━━━━━\u001b[0m \u001b[32m54.5/54.5 kB\u001b[0m \u001b[31m7.1 MB/s\u001b[0m eta \u001b[36m0:00:00\u001b[0m\n",
            "\u001b[?25hRequirement already satisfied: urllib3>=1.26.0 in /usr/local/lib/python3.10/dist-packages (from twine) (2.0.4)\n",
            "Requirement already satisfied: importlib-metadata>=3.6 in /usr/local/lib/python3.10/dist-packages (from twine) (6.8.0)\n",
            "Requirement already satisfied: keyring>=15.1 in /usr/lib/python3/dist-packages (from twine) (23.5.0)\n",
            "Collecting rfc3986>=1.4.0 (from twine)\n",
            "  Downloading rfc3986-2.0.0-py2.py3-none-any.whl (31 kB)\n",
            "Requirement already satisfied: rich>=12.0.0 in /usr/local/lib/python3.10/dist-packages (from twine) (13.5.2)\n",
            "Requirement already satisfied: zipp>=0.5 in /usr/local/lib/python3.10/dist-packages (from importlib-metadata>=3.6->twine) (3.16.2)\n",
            "Requirement already satisfied: bleach>=2.1.0 in /usr/local/lib/python3.10/dist-packages (from readme-renderer>=35.0->twine) (6.0.0)\n",
            "Requirement already satisfied: docutils>=0.13.1 in /usr/local/lib/python3.10/dist-packages (from readme-renderer>=35.0->twine) (0.18.1)\n",
            "Requirement already satisfied: Pygments>=2.5.1 in /usr/local/lib/python3.10/dist-packages (from readme-renderer>=35.0->twine) (2.16.1)\n",
            "Requirement already satisfied: charset-normalizer<4,>=2 in /usr/local/lib/python3.10/dist-packages (from requests>=2.20->twine) (3.2.0)\n",
            "Requirement already satisfied: idna<4,>=2.5 in /usr/local/lib/python3.10/dist-packages (from requests>=2.20->twine) (3.4)\n",
            "Requirement already satisfied: certifi>=2017.4.17 in /usr/local/lib/python3.10/dist-packages (from requests>=2.20->twine) (2023.7.22)\n",
            "Requirement already satisfied: markdown-it-py>=2.2.0 in /usr/local/lib/python3.10/dist-packages (from rich>=12.0.0->twine) (3.0.0)\n",
            "Requirement already satisfied: six>=1.9.0 in /usr/local/lib/python3.10/dist-packages (from bleach>=2.1.0->readme-renderer>=35.0->twine) (1.16.0)\n",
            "Requirement already satisfied: webencodings in /usr/local/lib/python3.10/dist-packages (from bleach>=2.1.0->readme-renderer>=35.0->twine) (0.5.1)\n",
            "Requirement already satisfied: mdurl~=0.1 in /usr/local/lib/python3.10/dist-packages (from markdown-it-py>=2.2.0->rich>=12.0.0->twine) (0.1.2)\n",
            "Installing collected packages: rfc3986, pkginfo, requests-toolbelt, readme-renderer, twine\n",
            "Successfully installed pkginfo-1.9.6 readme-renderer-41.0 requests-toolbelt-1.0.0 rfc3986-2.0.0 twine-4.0.2\n",
            "\u001b[31mERROR   \u001b[0m InvalidDistribution: Cannot find file (or expand pattern): 'dist/*'    \n",
            "\u001b[31mERROR   \u001b[0m InvalidDistribution: Cannot find file (or expand pattern): 'dist/*'    \n"
          ]
        }
      ]
    },
    {
      "cell_type": "code",
      "source": [
        "!twine --version"
      ],
      "metadata": {
        "colab": {
          "base_uri": "https://localhost:8080/"
        },
        "id": "xPLHxFbBL_Tt",
        "outputId": "3d64cf66-96b3-41d2-becc-ea83a77eb335"
      },
      "execution_count": 18,
      "outputs": [
        {
          "output_type": "stream",
          "name": "stdout",
          "text": [
            "twine\n",
            "version\n",
            "4.0.2\n",
            "(importlib-\n",
            "metadata:\n",
            "6.8.0,\n",
            "keyring:\n",
            "23.5.0,\n",
            "pkginfo:\n",
            "1.9.6,\n",
            "requests:\n",
            "2.31.0,\n",
            "requests-\n",
            "toolbelt:\n",
            "1.0.0,\n",
            "urllib3:\n",
            "2.0.4)\n"
          ]
        }
      ]
    },
    {
      "cell_type": "code",
      "source": [
        "import time\n",
        "from IPython.display import IFrame\n",
        "# check the server after a few minutes\n",
        "# time.sleep(120) # turned off for dbg\n",
        "#IFrame('https://rkbain.com', width=700, height=350)\n",
        "IFrame('https://test.pypi.org/project/carlsim', width=700, height=350)"
      ],
      "metadata": {
        "colab": {
          "base_uri": "https://localhost:8080/",
          "height": 371
        },
        "id": "6GX4X3WcH-V2",
        "outputId": "38a58c43-cfad-44fa-e1f6-df7b58ca0009"
      },
      "execution_count": 15,
      "outputs": [
        {
          "output_type": "execute_result",
          "data": {
            "text/plain": [
              "<IPython.lib.display.IFrame at 0x7bdedf2957b0>"
            ],
            "text/html": [
              "\n",
              "        <iframe\n",
              "            width=\"700\"\n",
              "            height=\"350\"\n",
              "            src=\"https://test.pypi.org/project/carlsim\"\n",
              "            frameborder=\"0\"\n",
              "            allowfullscreen\n",
              "            \n",
              "        ></iframe>\n",
              "        "
            ]
          },
          "metadata": {},
          "execution_count": 15
        }
      ]
    },
    {
      "cell_type": "code",
      "source": [],
      "metadata": {
        "id": "OzRsHKWyIaKt"
      },
      "execution_count": null,
      "outputs": []
    }
  ]
}