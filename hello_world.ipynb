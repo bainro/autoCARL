{
  "nbformat": 4,
  "nbformat_minor": 0,
  "metadata": {
    "colab": {
      "provenance": [],
      "gpuType": "T4",
      "authorship_tag": "ABX9TyMGYHZk4+exKYtBNlJWwKVB",
      "include_colab_link": true
    },
    "kernelspec": {
      "name": "python3",
      "display_name": "Python 3"
    },
    "language_info": {
      "name": "python"
    },
    "accelerator": "GPU"
  },
  "cells": [
    {
      "cell_type": "markdown",
      "metadata": {
        "id": "view-in-github",
        "colab_type": "text"
      },
      "source": [
        "<a href=\"https://colab.research.google.com/github/bainro/autoCARL/blob/feat%2FPyCARL2/hello_world.ipynb\" target=\"_parent\"><img src=\"https://colab.research.google.com/assets/colab-badge.svg\" alt=\"Open In Colab\"/></a>"
      ]
    },
    {
      "cell_type": "code",
      "execution_count": 1,
      "metadata": {
        "id": "xMVMfnNGC_El",
        "colab": {
          "base_uri": "https://localhost:8080/"
        },
        "outputId": "43b3eb06-afd2-4d41-d04a-1bf444d7db3b"
      },
      "outputs": [
        {
          "output_type": "stream",
          "name": "stdout",
          "text": [
            "Looking in indexes: https://test.pypi.org/simple/\n",
            "Collecting carlsim==1.1\n",
            "  Downloading https://test-files.pythonhosted.org/packages/2f/b8/74784174c2081fddfd058ad240469f23df0314eae863bda6072fdd2994b0/carlsim-1.1.tar.gz (44.4 MB)\n",
            "\u001b[2K     \u001b[90m━━━━━━━━━━━━━━━━━━━━━━━━━━━━━━━━━━━━━━━━\u001b[0m \u001b[32m44.4/44.4 MB\u001b[0m \u001b[31m2.2 MB/s\u001b[0m eta \u001b[36m0:00:00\u001b[0m\n",
            "\u001b[?25h  Preparing metadata (setup.py) ... \u001b[?25l\u001b[?25hdone\n",
            "Building wheels for collected packages: carlsim\n",
            "  Building wheel for carlsim (setup.py) ... \u001b[?25l\u001b[?25hdone\n",
            "  Created wheel for carlsim: filename=carlsim-1.1-py3-none-any.whl size=44586855 sha256=a7c83e735d9496bce6397f50d4700a08e2939362728b4cb331f62a1af5f08883\n",
            "  Stored in directory: /root/.cache/pip/wheels/91/35/9f/005dfdc69c4d56467f7624bdbb27f1ce1394cbd8ac6ac89d10\n",
            "Successfully built carlsim\n",
            "Installing collected packages: carlsim\n",
            "Successfully installed carlsim-1.1\n"
          ]
        }
      ],
      "source": [
        "# install python version of carlsim :)\n",
        "!pip install -i https://test.pypi.org/simple/ carlsim==1.1"
      ]
    },
    {
      "cell_type": "code",
      "source": [
        "!git clone https://github.com/bainro/autoCARL.git"
      ],
      "metadata": {
        "colab": {
          "base_uri": "https://localhost:8080/"
        },
        "id": "qdZgWK7JCkUE",
        "outputId": "0253af60-d251-4d52-b5e9-018d3cfa2630"
      },
      "execution_count": 2,
      "outputs": [
        {
          "output_type": "stream",
          "name": "stdout",
          "text": [
            "Cloning into 'autoCARL'...\n",
            "remote: Enumerating objects: 2588, done.\u001b[K\n",
            "remote: Counting objects: 100% (67/67), done.\u001b[K\n",
            "remote: Compressing objects: 100% (59/59), done.\u001b[K\n",
            "remote: Total 2588 (delta 39), reused 14 (delta 8), pack-reused 2521\u001b[K\n",
            "Receiving objects: 100% (2588/2588), 92.12 MiB | 16.06 MiB/s, done.\n",
            "Resolving deltas: 100% (1381/1381), done.\n"
          ]
        }
      ]
    },
    {
      "cell_type": "code",
      "source": [
        "!cd autoCARL && git checkout feat/PyCARL2"
      ],
      "metadata": {
        "colab": {
          "base_uri": "https://localhost:8080/"
        },
        "id": "j4Ji4bS5Cq7V",
        "outputId": "003e1d6d-ddfb-4e9d-fb23-7dd1eeab3ac9"
      },
      "execution_count": 3,
      "outputs": [
        {
          "output_type": "stream",
          "name": "stdout",
          "text": [
            "Branch 'feat/PyCARL2' set up to track remote branch 'feat/PyCARL2' from 'origin'.\n",
            "Switched to a new branch 'feat/PyCARL2'\n"
          ]
        }
      ]
    },
    {
      "cell_type": "code",
      "source": [
        "!python3 autoCARL/pyCARL/test/hello_world/hello_world.py"
      ],
      "metadata": {
        "colab": {
          "base_uri": "https://localhost:8080/"
        },
        "id": "MK-iDdSEDBLV",
        "outputId": "a1a19113-6e4c-43f3-d579-6e0d7edbd044"
      },
      "execution_count": 4,
      "outputs": [
        {
          "output_type": "stream",
          "name": "stdout",
          "text": [
            "Created results directory \"results/\".\n",
            "*********************************************************************************\n",
            "********************      Welcome to CARLsim 6.0      ***************************\n",
            "*********************************************************************************\n",
            "\n",
            "***************************** Configuring Network ********************************\n",
            "Starting CARLsim simulation \"hello_world\" in USER mode\n",
            "Random number seed: 1695003055\n",
            "Running COBA mode:\n",
            "  - AMPA decay time            =     5 ms\n",
            "  - NMDA rise time (disabled)  =     0 ms\n",
            "  - GABAa decay time           =     6 ms\n",
            "  - GABAb rise time (disabled) =     0 ms\n",
            "  - GABAb decay time           =   150 ms\n",
            "\n",
            "\n",
            "************************** Global Network Configuration *******************************\n",
            "The number of neurons in the network (numN) = 126\n",
            "The number of regular neurons in the network (numNReg:numNExcReg:numNInhReg) = 9:9:0\n",
            "The number of poisson neurons in the network (numNPois:numNExcPois:numInhPois) = 117:117:0\n",
            "The maximum axonal delay in the network (maxDelay) = 1\n",
            "CUDA devices Configuration:\n",
            "  - Number of CUDA devices          =         1\n",
            "  - CUDA device ID with max GFLOPs  =         0\n",
            "  + Use CUDA device[0]              =  Tesla T4\n",
            "  + CUDA Compute Capability (CC)    =       7.5\n",
            "\n",
            "+ Local Network (0)\n",
            "|-+ Group List:\n",
            "  |-+ Local Group input(G:0,L:1): \n",
            "    |- Type                       =    EXCIT_POISSON\n",
            "    |- Num of Neurons             =      117\n",
            "    |- Start Id                   = (G:9,L:9)\n",
            "    |- End Id                     = (G:125,L:125)\n",
            "    |- numPostSynapses            =     1021\n",
            "    |- numPreSynapses             =        0\n",
            "    |- Refractory period          =  0.00000\n",
            "  |-+ Local Group output(G:1,L:0): \n",
            "    |- Type                       =    EXCIT\n",
            "    |- Num of Neurons             =        9\n",
            "    |- Start Id                   = (G:0,L:0)\n",
            "    |- End Id                     = (G:8,L:8)\n",
            "    |- numPostSynapses            =        0\n",
            "    |- numPreSynapses             =     1021\n",
            "|-+ Connection List:\n",
            "  |-+ Local Connection Id 0: input(0) => output(1)\n",
            "    |- Type                       =    FIXED\n",
            "    |- Min weight                 =  0.00000\n",
            "    |- Max weight                 =  0.05000\n",
            "    |- Initial weight             =  0.05000\n",
            "    |- Min delay                  =        1\n",
            "    |- Max delay                  =        1\n",
            "    |- Radius X                   =     3.00\n",
            "    |- Radius Y                   =     3.00\n",
            "    |- Radius Z                   =     1.00\n",
            "    |- Num of synapses            = 1021\n",
            "    |- Avg numPreSynapses         =   113.44\n",
            "    |- Avg numPostSynapses        =     8.73\n",
            "\n",
            "*****************      Initializing GPU 0 Runtime      *************************\n",
            "GPU Memory Management: (Total 15101.812 MB)\n",
            "Data\t\t\tSize\t\tTotal Used\tTotal Available\n",
            "Init:\t\t\t15101.812 MB\t107.000 MB\t14994.812 MB\n",
            "Random Gen:\t\t2.000 MB\t109.000 MB\t14992.812 MB\n",
            "Static Load:\t\t0.000 MB\t109.000 MB\t14992.812 MB\n",
            "Conn Info:\t\t0.000 MB\t109.000 MB\t14992.812 MB\n",
            "Syn State:\t\t0.000 MB\t109.000 MB\t14992.812 MB\n",
            "Neuron State:\t\t0.000 MB\t109.000 MB\t14992.812 MB\n",
            "Group State:\t\t0.000 MB\t109.000 MB\t14992.812 MB\n",
            "Auxiliary Data:\t\t0.000 MB\t109.000 MB\t14992.812 MB\n",
            "\n",
            "\n",
            "\n",
            "******************** Running the simulation on 1 GPU(s) and 0 CPU(s) ***************************\n",
            "\n",
            "\n",
            "\n",
            "********************    Simulation Summary      ***************************\n",
            "Network Parameters: \tnumNeurons = 126 (numNExcReg:numNInhReg = 7.1:0.0)\n",
            "\t\t\tnumSynapses = 1021\n",
            "\t\t\tmaxDelay = 1\n",
            "Simulation Mode:\tCOBA\n",
            "Random Seed:\t\t1695003055\n",
            "Timing:\t\t\tModel Simulation Time = 1 sec\n",
            "\t\t\tActual Execution Time = 0.15 sec\n",
            "\t\t\tSpeed Factor (Model/Real) = 6.8 x \n",
            "Average Firing Rate:\t2+ms delay = 0.000 Hz\n",
            "\t\t\t1ms delay = 38.810 Hz\n",
            "\t\t\tOverall = 38.810 Hz\n",
            "Overall Spike Count Transferred:\n",
            "\t\t\t2+ms delay = 0\n",
            "\t\t\t1ms delay = 0\n",
            "Overall Spike Count:\t2+ms delay = 0\n",
            "\t\t\t1ms delay = 4890\n",
            "\t\t\tTotal = 4890\n",
            "*********************************************************************************\n",
            "\n"
          ]
        }
      ]
    },
    {
      "cell_type": "code",
      "source": [
        "import time\n",
        "from IPython.display import IFrame\n",
        "# check the server after a few minutes\n",
        "# time.sleep(120) # turned off for dbg\n",
        "#IFrame('https://rkbain.com', width=700, height=350)\n",
        "IFrame('https://test.pypi.org/project/carlsim', width=700, height=350)"
      ],
      "metadata": {
        "colab": {
          "base_uri": "https://localhost:8080/",
          "height": 371
        },
        "id": "6GX4X3WcH-V2",
        "outputId": "38a58c43-cfad-44fa-e1f6-df7b58ca0009"
      },
      "execution_count": null,
      "outputs": [
        {
          "output_type": "execute_result",
          "data": {
            "text/plain": [
              "<IPython.lib.display.IFrame at 0x7bdedf2957b0>"
            ],
            "text/html": [
              "\n",
              "        <iframe\n",
              "            width=\"700\"\n",
              "            height=\"350\"\n",
              "            src=\"https://test.pypi.org/project/carlsim\"\n",
              "            frameborder=\"0\"\n",
              "            allowfullscreen\n",
              "            \n",
              "        ></iframe>\n",
              "        "
            ]
          },
          "metadata": {},
          "execution_count": 15
        }
      ]
    },
    {
      "cell_type": "code",
      "source": [],
      "metadata": {
        "id": "OzRsHKWyIaKt"
      },
      "execution_count": null,
      "outputs": []
    }
  ]
}